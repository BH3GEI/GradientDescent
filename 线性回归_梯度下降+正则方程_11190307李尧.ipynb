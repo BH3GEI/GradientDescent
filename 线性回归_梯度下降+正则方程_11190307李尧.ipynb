{
 "cells": [
  {
   "cell_type": "markdown",
   "id": "introductory-upgrade",
   "metadata": {},
   "source": [
    "# 线性回归_梯度下降+正则方程\n",
    "## 11190307 李尧"
   ]
  },
  {
   "cell_type": "markdown",
   "id": "available-teach",
   "metadata": {},
   "source": [
    "### import+读入数据"
   ]
  },
  {
   "cell_type": "code",
   "execution_count": 1,
   "id": "impossible-airport",
   "metadata": {},
   "outputs": [],
   "source": [
    "import numpy as np\n",
    "import matplotlib.pyplot as plt\n",
    "import pandas as pd\n",
    "data = np.load(\"lrdata.npy\")\n",
    "\n",
    "from numpy.linalg import inv  # 矩阵求逆\n",
    "from numpy import dot  # 矩阵点乘\n",
    "from numpy import mat  # 二维矩阵\n"
   ]
  },
  {
   "cell_type": "markdown",
   "id": "august-proceeding",
   "metadata": {},
   "source": [
    "## 正则方程法\n",
    "### 利用矩阵计算\n"
   ]
  },
  {
   "cell_type": "markdown",
   "id": "corporate-nomination",
   "metadata": {},
   "source": [
    "$$\\theta = (X^TX)^{-1}X^Ty$$"
   ]
  },
  {
   "cell_type": "markdown",
   "id": "restricted-vegetable",
   "metadata": {},
   "source": [
    "#### 处理数据"
   ]
  },
  {
   "cell_type": "code",
   "execution_count": 2,
   "id": "headed-style",
   "metadata": {},
   "outputs": [],
   "source": [
    "X1 = mat(data[:,0:2]).reshape(60,2)  # x为1,2,3\n",
    "Y1 = mat(data[:,2]).reshape(60,1)  # y为5,10,15\n",
    "_num_of_samples = X1.shape[0]\n",
    "# 在data_x的最左侧拼接全1列\n",
    "X_0 = np.ones([_num_of_samples, 1])\n",
    "nX = np.column_stack((X_0, X1))"
   ]
  },
  {
   "cell_type": "markdown",
   "id": "hearing-jersey",
   "metadata": {},
   "source": [
    "#### 直接套公式进行计算"
   ]
  },
  {
   "cell_type": "code",
   "execution_count": 3,
   "id": "engaging-coverage",
   "metadata": {},
   "outputs": [
    {
     "name": "stdout",
     "output_type": "stream",
     "text": [
      "[[ 5.08336756]\n",
      " [ 3.67462399]\n",
      " [-2.49115583]]\n",
      "y = 3.675 X_1 -2.491 X_2 + 5.083\n"
     ]
    }
   ],
   "source": [
    "theta = dot(dot(inv(dot(nX.T, nX)), nX.T), Y1)  # 公式\n",
    "print(theta)\n",
    "print(\"y = %.3f X_1 %.3f X_2 + %.3f\" %(float(theta[1]),float(theta[2]),float(theta[0])))\n"
   ]
  },
  {
   "cell_type": "markdown",
   "id": "assumed-origin",
   "metadata": {},
   "source": [
    "## 梯度下降法"
   ]
  },
  {
   "cell_type": "markdown",
   "id": "clinical-northwest",
   "metadata": {},
   "source": [
    "#### 处理数据"
   ]
  },
  {
   "cell_type": "code",
   "execution_count": null,
   "id": "official-constitutional",
   "metadata": {},
   "outputs": [],
   "source": [
    "X = data[:,:-1]\n",
    "Y = data[:,-1:]\n",
    "x1 = X[:,0]\n",
    "x2 = X[:,1]\n",
    "X.shape, Y.shape, X[:5], Y[:5]\n",
    "plt.scatter(x1, Y)\n",
    "plt.scatter(x2, Y)\n",
    "plt.show()"
   ]
  },
  {
   "cell_type": "markdown",
   "id": "composite-reviewer",
   "metadata": {},
   "source": [
    "#### Initalize"
   ]
  },
  {
   "cell_type": "code",
   "execution_count": 5,
   "id": "quiet-dodge",
   "metadata": {},
   "outputs": [],
   "source": [
    "theta0 = 0\n",
    "theta1 = 0\n",
    "theta2 = 0\n",
    "epochs = 10000\n",
    "alpha = 0.00015\n",
    "\n",
    "def initalize():\n",
    "    global theta0, theta1, theta2\n",
    "    theta0 = 0\n",
    "    theta1 = 0\n",
    "    theta2 = 0\n",
    "\n",
    "    epochs = 10000\n",
    "    alpha = 0.00015"
   ]
  },
  {
   "cell_type": "markdown",
   "id": "based-product",
   "metadata": {},
   "source": [
    "#### 损失函数\n",
    "$$COST = \\frac{1}{N}\\sum^{N}_{i=0}(Y^{'}-Y)^2$$"
   ]
  },
  {
   "cell_type": "code",
   "execution_count": 6,
   "id": "agricultural-interim",
   "metadata": {},
   "outputs": [],
   "source": [
    "def cost(X,Y,theta0,theta1,theta2):\n",
    "    loss = 0\n",
    "    N = len(Y)\n",
    "    for i in range(N):\n",
    "        loss += (theta0+theta1*X[i,0]+theta2*X[i,1]-Y[i])**2\n",
    "    loss = loss/N\n",
    "    return loss"
   ]
  },
  {
   "cell_type": "markdown",
   "id": "brief-pantyhose",
   "metadata": {},
   "source": [
    "#### 梯度下降函数"
   ]
  },
  {
   "cell_type": "markdown",
   "id": "married-salmon",
   "metadata": {},
   "source": [
    "##### BGD"
   ]
  },
  {
   "cell_type": "code",
   "execution_count": 7,
   "id": "narrow-fossil",
   "metadata": {},
   "outputs": [],
   "source": [
    "def grad_des_bgd(X,Y,theta0,theta1,theta2,alpha,epochs):\n",
    "    m = len(Y)\n",
    "    for _ in range(epochs):\n",
    "        dB = 0\n",
    "        dw1 = 0\n",
    "        dw2 = 0\n",
    "        for i in range(m):\n",
    "            b_grad = (theta0+theta1*X[i,0]+theta2*X[i,1]-Y[i])\n",
    "            w1_grad = (theta0+theta1*X[i,0]+theta2*X[i,1]-Y[i])*X[i,0]\n",
    "            w2_grad = (theta0+theta1*X[i,0]+theta2*X[i,1]-Y[i])*X[i,1]\n",
    "            dB += b_grad\n",
    "            dw1 += w1_grad\n",
    "            dw2 += w2_grad\n",
    "        theta0 = theta0 - alpha*dB*2/m\n",
    "        theta1 = theta1 - alpha*dw1*2/m\n",
    "        theta2 = theta2 - alpha*dw2*2/m\n",
    "    return theta0,theta1,theta2"
   ]
  },
  {
   "cell_type": "markdown",
   "id": "circular-lucas",
   "metadata": {},
   "source": [
    "##### SGD"
   ]
  },
  {
   "cell_type": "code",
   "execution_count": 8,
   "id": "compressed-tunnel",
   "metadata": {},
   "outputs": [],
   "source": [
    "def grad_des_sgd(X,Y,theta0,theta1,theta2,alpha,epochs):\n",
    "    m = len(Y)\n",
    "    for _ in range(epochs):\n",
    "        dB = 0\n",
    "        dw1 = 0\n",
    "        dw2 = 0\n",
    "        for i in range(m):\n",
    "            b_grad = (theta0+theta1*X[i,0]+theta2*X[i,1]-Y[i])\n",
    "            w1_grad = (theta0+theta1*X[i,0]+theta2*X[i,1]-Y[i])*X[i,0]\n",
    "            w2_grad = (theta0+theta1*X[i,0]+theta2*X[i,1]-Y[i])*X[i,1]\n",
    "            theta0 = theta0 - alpha*b_grad*2/m\n",
    "            theta1 = theta1 - alpha*w1_grad*2/m\n",
    "            theta2 = theta2 - alpha*w2_grad*2/m\n",
    "    return theta0,theta1,theta2"
   ]
  },
  {
   "cell_type": "markdown",
   "id": "threaded-influence",
   "metadata": {},
   "source": [
    "#### MAIN"
   ]
  },
  {
   "cell_type": "markdown",
   "id": "computational-condition",
   "metadata": {},
   "source": [
    "##### SGD"
   ]
  },
  {
   "cell_type": "code",
   "execution_count": 9,
   "id": "transparent-joining",
   "metadata": {
    "scrolled": false
   },
   "outputs": [
    {
     "name": "stdout",
     "output_type": "stream",
     "text": [
      "b=0,theta1=0,theta2=0,loss=[15513.47303873]\n",
      "[0]: loss = [11.10980244]\n",
      "[1]: loss = [10.20101448]\n",
      "[2]: loss = [9.80685781]\n",
      "[3]: loss = [9.63457115]\n",
      "[4]: loss = [9.55840582]\n",
      "[5]: loss = [9.5241862]\n",
      "[6]: loss = [9.50846602]\n",
      "[7]: loss = [9.50102941]\n",
      "[8]: loss = [9.49738091]\n",
      "[9]: loss = [9.4955139]\n",
      "b=[4.98694651],theta1=[3.68028311],theta2=[-2.4864659],loss=[9.4955139]\n",
      "y = 3.680 X_1 -2.486 X_2 + 4.987\n"
     ]
    },
    {
     "data": {
      "image/png": "[encoded data removed]",
      "text/plain": [
       "<Figure size 432x288 with 1 Axes>"
      ]
     },
     "metadata": {
      "needs_background": "light"
     },
     "output_type": "display_data"
    }
   ],
   "source": [
    "initalize()\n",
    "    \n",
    "loss = cost(X,Y,theta0,theta1,theta2)\n",
    "print('b={},theta1={},theta2={},loss={}'.format(theta0,theta1,theta2,loss))\n",
    "for i in range(10):\n",
    "    theta0,theta1,theta2 = grad_des_sgd(X,Y,theta0,theta1,theta2,alpha,epochs)\n",
    "    loss = cost(X,Y,theta0,theta1,theta2)\n",
    "    print(\"[{}]: loss = {}\".format(i, loss))\n",
    "print('b={},theta1={},theta2={},loss={}'.format(theta0,theta1,theta2,cost(X,Y,theta0,theta1,theta2)))\n",
    "print(\"y = %.3f X_1 %.3f X_2 + %.3f\" %(float(theta1),float(theta2),float(theta0)))\n",
    "plt.scatter(x1, Y)\n",
    "plt.scatter(x2, Y)\n",
    "plt.plot(np.arange(1,100), np.arange(1,100)*float(theta[2])+np.arange(1,100)*float(theta1)+float(theta0))\n",
    "plt.show()"
   ]
  },
  {
   "cell_type": "markdown",
   "id": "transparent-chemical",
   "metadata": {},
   "source": [
    "##### BGD"
   ]
  },
  {
   "cell_type": "code",
   "execution_count": null,
   "id": "german-emphasis",
   "metadata": {},
   "outputs": [
    {
     "name": "stdout",
     "output_type": "stream",
     "text": [
      "b=0,theta1=0,theta2=0,loss=[15513.47303873]\n",
      "[0]: loss = [11.10980244]\n",
      "[1]: loss = [10.20101448]\n",
      "[2]: loss = [9.80685781]\n",
      "[3]: loss = [9.63457115]\n",
      "[4]: loss = [9.55840582]\n",
      "[5]: loss = [9.5241862]\n",
      "[6]: loss = [9.50846602]\n",
      "[7]: loss = [9.50102941]\n"
     ]
    }
   ],
   "source": [
    "initalize()\n",
    "\n",
    "loss = cost(X,Y,theta0,theta1,theta2)\n",
    "print('b={},theta1={},theta2={},loss={}'.format(theta0,theta1,theta2,loss))\n",
    "for i in range(10):\n",
    "    theta0,theta1,theta2 = grad_des_sgd(X,Y,theta0,theta1,theta2,alpha,epochs)\n",
    "    loss = cost(X,Y,theta0,theta1,theta2)\n",
    "    print(\"[{}]: loss = {}\".format(i, loss))\n",
    "print('b={},theta1={},theta2={},loss={}'.format(theta0,theta1,theta2,cost(X,Y,theta0,theta1,theta2)))\n",
    "print(\"y = %.3f X_1 %.3f X_2 + %.3f\" %(float(theta1),float(theta2),float(theta0)))\n",
    "plt.scatter(x1, Y)\n",
    "plt.scatter(x2, Y)\n",
    "plt.plot(np.arange(1,100), np.arange(1,100)*float(theta[2])+np.arange(1,100)*float(theta1)+float(theta0))\n",
    "plt.show()"
   ]
  },
  {
   "cell_type": "code",
   "execution_count": null,
   "id": "coupled-wrong",
   "metadata": {},
   "outputs": [],
   "source": []
  }
 ],
 "metadata": {
  "kernelspec": {
   "display_name": "Python 3",
   "language": "python",
   "name": "python3"
  },
  "language_info": {
   "codemirror_mode": {
    "name": "ipython",
    "version": 3
   },
   "file_extension": ".py",
   "mimetype": "text/x-python",
   "name": "python",
   "nbconvert_exporter": "python",
   "pygments_lexer": "ipython3",
   "version": "3.8.5"
  }
 },
 "nbformat": 4,
 "nbformat_minor": 5
}
